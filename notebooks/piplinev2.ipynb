{
 "cells": [
  {
   "cell_type": "code",
   "execution_count": 1,
   "id": "9f892109-a7e3-4457-9656-31dd3bcdc89c",
   "metadata": {},
   "outputs": [],
   "source": [
    "import numpy as np\n",
    "import pandas as pd\n",
    "import re\n",
    "import string\n",
    "import pickle"
   ]
  },
  {
   "cell_type": "code",
   "execution_count": 2,
   "id": "0de5eb64-9034-49ca-8ff9-1d68facc8d89",
   "metadata": {},
   "outputs": [],
   "source": [
    "with open(\"../static/model/trained_model.pickle\",\"rb\") as f:\n",
    "    model = pickle.load(f)"
   ]
  },
  {
   "cell_type": "code",
   "execution_count": 3,
   "id": "0a86c02e-1784-4705-bcb2-b5885c9cee23",
   "metadata": {},
   "outputs": [],
   "source": [
    "# Load the vectorizer\n",
    "with open(\"../static/model/vectorizer.pkl\", \"rb\") as f:\n",
    "    vectorizer = pickle.load(f)"
   ]
  },
  {
   "cell_type": "code",
   "execution_count": 4,
   "id": "5e66f55e-96e7-4f67-a28a-89f833922794",
   "metadata": {},
   "outputs": [],
   "source": [
    "with open(\"../static/model/corpora/stopwords/english\",\"r\") as file:\n",
    "    sw = file.read().splitlines()"
   ]
  },
  {
   "cell_type": "code",
   "execution_count": 5,
   "id": "c9b1929f-145d-4b27-a23f-cbad03db25ce",
   "metadata": {},
   "outputs": [],
   "source": [
    "from nltk.stem import PorterStemmer\n",
    "port_stem = PorterStemmer()"
   ]
  },
  {
   "cell_type": "code",
   "execution_count": 6,
   "id": "eeca6f4e-d161-465a-a177-602b09dafadd",
   "metadata": {},
   "outputs": [],
   "source": [
    "def stemming(content):\n",
    "  content = \" \".join(re.sub(r'^https?:\\/\\/.*[\\r\\n]*', '', x, flags=re.MULTILINE) for x in content.split())\n",
    "  stemmed_content = re.sub('[^a-zA-Z]',' ',content)\n",
    "  stemmed_content = stemmed_content.lower()\n",
    "  stemmed_content = stemmed_content.split()\n",
    "  stemmed_content = [port_stem.stem(word) for word in stemmed_content if not word in sw]\n",
    "  stemmed_content = ' '.join(stemmed_content)\n",
    "\n",
    "  return stemmed_content"
   ]
  },
  {
   "cell_type": "code",
   "execution_count": 7,
   "id": "2b9d92a4-180a-4ef1-8340-c20a685ec788",
   "metadata": {},
   "outputs": [],
   "source": [
    "# Prediction pipeline function\n",
    "def predict_sentiment(text):\n",
    "    # Preprocess and stem the input text\n",
    "    cleaned_text = stemming(text)\n",
    "    \n",
    "    # Vectorize the cleaned text\n",
    "    vectorized_text = vectorizer.transform([cleaned_text])\n",
    "    \n",
    "    # Predict the sentiment using the trained model\n",
    "    prediction = model.predict(vectorized_text)[0]\n",
    "    \n",
    "    # Return human-readable sentiment\n",
    "    if prediction == 1:\n",
    "        return \"Positive\"\n",
    "    else:\n",
    "        return \"Negative\""
   ]
  },
  {
   "cell_type": "code",
   "execution_count": 21,
   "id": "c6ad02e1-9e63-41f1-8d74-fa997f13e118",
   "metadata": {},
   "outputs": [
    {
     "name": "stdout",
     "output_type": "stream",
     "text": [
      "The sentiment is: Positive\n"
     ]
    }
   ],
   "source": [
    "text = \"\"\"I recommend the movie\"\"\"\n",
    "prediction = predict_sentiment(text)\n",
    "print(f\"The sentiment is: {prediction}\")"
   ]
  },
  {
   "cell_type": "code",
   "execution_count": null,
   "id": "7e7e132c-d994-4e43-822d-6d448b35c3ab",
   "metadata": {},
   "outputs": [],
   "source": []
  }
 ],
 "metadata": {
  "kernelspec": {
   "display_name": "Python 3 (ipykernel)",
   "language": "python",
   "name": "python3"
  },
  "language_info": {
   "codemirror_mode": {
    "name": "ipython",
    "version": 3
   },
   "file_extension": ".py",
   "mimetype": "text/x-python",
   "name": "python",
   "nbconvert_exporter": "python",
   "pygments_lexer": "ipython3",
   "version": "3.11.3"
  }
 },
 "nbformat": 4,
 "nbformat_minor": 5
}
